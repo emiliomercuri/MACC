{
  "cells": [
    {
      "cell_type": "markdown",
      "metadata": {
        "id": "view-in-github",
        "colab_type": "text"
      },
      "source": [
        "<a href=\"https://colab.research.google.com/github/emiliomercuri/MACC/blob/main/codes/2023_10_03_Kaczmarski_UPDF_v03(variando_porosidade_aparente).ipynb\" target=\"_parent\"><img src=\"https://colab.research.google.com/assets/colab-badge.svg\" alt=\"Open In Colab\"/></a>"
      ]
    },
    {
      "cell_type": "markdown",
      "metadata": {
        "id": "MZGinyIwlQ7U"
      },
      "source": [
        "## Método numérico de solução do reator de captura de CO2\n",
        "\n",
        "### Equações das constantes calculadas pelo Tarcisio\n",
        "\n",
        "Juntamos os códigos\n",
        "\n",
        "#### Modelo acoplado considerando as equações do Fluido intersticial e dos Pellets empacotados\n",
        "\n",
        "Baseado nos artigos:\n",
        "\n",
        "* Kaczmarski, K., & Szukiewicz, M. K. (2021). An efficient and robust method for numerical analysis of a dead zone in catalyst particle and packed bed reactor. Engineering Reports, 3(8), e12370.\n",
        "\n",
        "* Chen-Charpentier, B. M., & Kojouharov, H. V. (2013). An unconditionally positivity preserving scheme for advection–diffusion reaction equations. Mathematical and computer modelling, 57(9-10), 2177-2185.\n",
        "\n",
        "\n",
        "Variáveis:\n",
        "* $y_i^{n}$: Concentração de CO$_2$ na fase gasosa (função de x e t)\n",
        "* $c_{j,i}^{n}$: Concentração de CO$_2$ nos Pellets (fase sólida) (função de R, x e t)\n",
        "\n",
        "Índices:\n",
        "* $n$ - tempo $t$\n",
        "* $i$ - posição axial $x$ do reator\n",
        "* $j$ - posição radial $R$ dentro do Pellet\n",
        "\n",
        "\\begin{equation}\n",
        " \ty_i^{n+1}\n",
        " \t=\n",
        " \t\\frac{\n",
        " \t\\widehat{\\rm Pe}  \\, y_{i+1}^n +\n",
        " \ty_i^n  / \\Delta t  +\n",
        " \t\\left( 1 / \\Delta x   +\n",
        " \t\\widehat{\\rm Pe}    \\right)  y_{i-1}^n  +\n",
        " \tA  \\, c_{i,j}^n\n",
        " \t}{\n",
        " \t1 / \\Delta t +\n",
        " \t1 / \\Delta x +\n",
        " \t2 \\widehat{\\rm Pe}   +\n",
        " \tA }\n",
        "\\end{equation}\n",
        "\n",
        "\n",
        "Condições de contorno (em $x$ temos os índices $i = 0...m$):\n",
        "\n",
        "* $y_{0}^{n} = y_f$ e $y_1^{n} = y_f$\n",
        "* $y_m^{n} = y_{m-1}^{n}$\n",
        "\n",
        "\n",
        "\\begin{equation}\n",
        " \tc_{j,i}^{n+1}\n",
        " \t=\n",
        " \t\\frac{\n",
        " \t\\left( \\frac{\\Delta R \\, \\Delta t \\, E}{R_d+ F R_j}  +\n",
        " \t\\Delta t \\, B\n",
        " \t\\right) c_{j+1,i}^{n} +\n",
        " \t\\Delta R^2 c_{j,i}^n +\n",
        " \t\\Delta t \\, B \\, c_{j-1,i}^n\n",
        " \t}{\n",
        " \t\\left(\n",
        " \t\\Delta R^2 +\n",
        " \t\\frac{\\Delta R \\, \\Delta t \\, E}{R_d+ F R_j} +\n",
        " \t2 \\Delta t \\, B +\n",
        " \t\\Delta R^2 \\, \\Delta t \\, G\n",
        " \t\\right)\n",
        " \t}\n",
        " \\end{equation}\n",
        "\n",
        "Condições de contorno (em $R$ temos os índices $j = 0...k$):\n",
        "\n",
        "*\t$c_{k,i}^{n}   = (\\mathrm{Bi} \\, \\Delta R \\,  y_{i}^{n}  + c_{k-1,i}^n ) / (1 + \\mathrm{Bi} \\, \\Delta R )$\n",
        "* $c_{0,i}^{n} = c_{1,i}^n$\n",
        "\n"
      ]
    },
    {
      "cell_type": "code",
      "execution_count": null,
      "metadata": {
        "id": "3WZ0FfardsG3"
      },
      "outputs": [],
      "source": [
        "import numpy as np\n",
        "import matplotlib.pyplot as plt\n",
        "from scipy.optimize import fsolve\n",
        "import math\n",
        "\n",
        "from numpy import zeros, linspace, ones"
      ]
    },
    {
      "cell_type": "markdown",
      "metadata": {
        "id": "KgkjNDhQdsDh"
      },
      "source": [
        "## Cálculos do Tarcisio\n",
        "\n",
        "* Basedos no livro do Bird (Fenômenos de tranporte) e artigo Dantas e colaboradores (2011)"
      ]
    },
    {
      "cell_type": "code",
      "execution_count": null,
      "metadata": {
        "colab": {
          "base_uri": "https://localhost:8080/"
        },
        "id": "aNv9moGddsDh",
        "outputId": "09a16f39-a71b-437f-ed25-e9184b414d3f"
      },
      "outputs": [
        {
          "output_type": "stream",
          "name": "stdout",
          "text": [
            "rho_CO2: 1.8007 [kg m-3]\n",
            "P: 1.0010 atm\n",
            "T: 298.15 K\n",
            "mu_g: 1.7093e-05 Pa s\n",
            "u_avg: 0.0400 m s-1\n",
            "Dab: 1.5018e-05 m2 s-1\n",
            "Dk: 3.7457e-07 m2 s-1\n",
            "Deff: 1.6612e-07 m2 s-1\n",
            "DL: 1.9807e-04 m2 s-1\n",
            "kf: 2.7125e-02 m2 s-1\n",
            "kappa_bed: 1.7361e-08 m2\n"
          ]
        }
      ],
      "source": [
        "# Defining Ergun Equation\n",
        "def Ergun(u):\n",
        "    return (DeltaP / (rho_g * u ** 2)) * (d_p / L) * (eps_bed ** 3 / (1 - eps_bed)) -\\\n",
        "        150 * ((1 - eps_bed) / (d_p * rho_g * u / mu_g)) - (7 / 4)\n",
        "\n",
        "# Feed data\n",
        "y_CO2 = 0.14\n",
        "y_N2 = 1 - y_CO2\n",
        "T = 298.15  # [K]\n",
        "p_abs = 1  # [atm]\n",
        "p_in_rel = 100 / 101325  # input em Pa e transformar para atm [atm]\n",
        "p_in_abs = p_in_rel + p_abs  # [atm]\n",
        "M_CO2 = 44.01  # [g mol-1]\n",
        "M_N2 = 28.01  # [g mol-1]\n",
        "M_g = y_CO2 * M_CO2 + y_N2 * M_N2  # [g mol-1]\n",
        "# Densidade mássica do CO2\n",
        "rho_CO2 = (p_in_abs * 101325) * (M_CO2 / 1000) / (8.314 * T)  # [kg m-3]\n",
        "print(f\"rho_CO2: {rho_CO2:.4f} [kg m-3]\")\n",
        "# Densidade mássica do N2\n",
        "rho_N2 = (p_in_abs * 101325) * (M_N2 / 1000) / (8.314 * T)  # [kg m-3]\n",
        "# Densidade mássica da mistura\n",
        "rho_g = (y_CO2 / M_CO2) / (y_CO2 / M_CO2 + y_N2 / M_N2) * rho_CO2 + \\\n",
        "        (y_N2 / M_N2) / (y_CO2 / M_CO2 + y_N2 / M_N2) * rho_N2  # [kg m-3]\n",
        "\n",
        "# Packed bed data\n",
        "# Porosidade do leito\n",
        "eps_bed = 0.5\n",
        "# Diâmetro do leito\n",
        "D_bed = 0.1                                                                                                 # [m]\n",
        "# Comprimento do reator\n",
        "L = 0.3                                                                                                     # [m]\n",
        "# Área da seção transversal\n",
        "A_bed = math.pi * (D_bed / 2)**2                                                                            # [m2]\n",
        "\n",
        "# Particle data\n",
        "# Diâmetro da partícula\n",
        "d_p = 0.0025                                                                                                # [m]\n",
        "# Tortuosidade\n",
        "tau = 2.2 #tortuosity\n",
        "# Diâmetro dos poros\n",
        "d_pore = 2.46                                                                                               # [nm]\n",
        "\n",
        "# Lennard Jones data\n",
        "# Tamanho da molécula de CO2 em Angstron\n",
        "sig_CO2 = 3.9996                                                                                            # [A]\n",
        "# Tamanho da molécula de N2 em Angstron\n",
        "sig_N2 = 3.667                                                                                              # [A]\n",
        "# Epsilon sobre k para o CO2 (Parâmetro de Lennard Jones -> ver Bird (Fenômenos de Transporte))\n",
        "ek_CO2 = 190\n",
        "# Epsilon sobre k para o N2 (Parâmetro de Lennard Jones -> ver Bird (Fenômenos de Transporte))\n",
        "ek_N2 = 99.8\n",
        "# kappa * Temperatura (K) / Epsilon para CO2\n",
        "kTe_CO2 = 1 / ek_CO2 * T\n",
        "# kappa * Temperatura (K) / Epsilon para N2\n",
        "kTe_N2 = 1 / ek_N2 * T\n",
        "# Integral de colisão (Omega) para viscosidade do CO2\n",
        "omg_mu_CO2 = 1.16145 / kTe_CO2**0.14874 + 0.52487 / \\\n",
        "    math.exp(0.77320 * kTe_CO2) + 2.16178 / math.exp(2.43787 * kTe_CO2)\n",
        "# Integral de colisão (Omega) para viscosidade do N2\n",
        "omg_mu_N2 = 1.16145 / kTe_N2**0.14874 + 0.52487 / \\\n",
        "    math.exp(0.77320 * kTe_N2) + 2.16178 / math.exp(2.43787 * kTe_N2)\n",
        "\n",
        "# Viscosity estimation (Lennard Jones equation)\n",
        "mu_CO2 = 2.6693e-5 * math.sqrt(M_CO2 * T) / (sig_CO2**2 * omg_mu_CO2)\n",
        "mu_N2 = 2.6693e-5 * math.sqrt(M_N2 * T) / (sig_N2**2 * omg_mu_N2)\n",
        "\n",
        "# Viscosity binary mixture estimation (Wilke Equation)\n",
        "phi_aa = 1 / math.sqrt(8) * (1 + M_CO2 / M_CO2)**(-0.5) * \\\n",
        "    (1 + (mu_CO2 / mu_CO2)**0.5 * (M_CO2 / M_CO2)**0.25)**2\n",
        "phi_ab = 1 / math.sqrt(8) * (1 + M_CO2 / M_N2)**(-0.5) * \\\n",
        "    (1 + (mu_CO2 / mu_N2)**0.5 * (M_CO2 / M_N2)**0.25)**2\n",
        "phi_ba = 1 / math.sqrt(8) * (1 + M_N2 / M_CO2)**(-0.5) * \\\n",
        "    (1 + (mu_N2 / mu_CO2)**0.5 * (M_N2 / M_CO2)**0.25)**2\n",
        "phi_bb = 1 / math.sqrt(8) * (1 + M_N2 / M_N2)**(-0.5) * \\\n",
        "    (1 + (mu_N2 / mu_N2)**0.5 * (M_N2 / M_N2)**0.25)**2\n",
        "# Viscosidade da Mistura\n",
        "mu_g = y_CO2 * mu_CO2 / (y_CO2 * phi_aa + y_N2 * phi_ab) + \\\n",
        "    y_N2 * mu_N2 / (y_N2 * phi_bb + y_CO2 * phi_ba)  # [g cm-1 s-1]\n",
        "\n",
        "# Molecular diffusivity estimation (Chapman-Enskog Equation)\n",
        "sig_ab = 0.5 * (sig_CO2 + sig_N2)\n",
        "eab_k = math.sqrt(ek_CO2 * ek_N2)\n",
        "kTe_ab = 1 / eab_k * T\n",
        "omg_Dab = 1.06036 / kTe_ab**0.15610 + 0.19300 / math.exp(0.47635 * kTe_ab) + \\\n",
        "    1.03587 / math.exp(1.52996 * kTe_ab) + 1.76474 / math.exp(3.894117 * kTe_ab)\n",
        "# Difusividade Molecular\n",
        "Dab = 1.8583e-3 * math.sqrt(T**3 * (1 / M_CO2 + 1 / M_N2)) * 1 / \\\n",
        "    (p_in_abs * sig_ab**2 * omg_Dab) * 1e-4                                                                        # [m2 s-1]\n",
        "\n",
        "# Effective diffusivity estimation\n",
        "lam_ab = 8.3144e7 * T / (6.023e23 * math.sqrt(2) * math.pi * (sig_ab * 1e-8)**2 * (p_in_abs * 1.01325e6)) * 1e7    # [nm]\n",
        "Dk = 4.85e3 * d_pore * 1e-7 * (T / (y_CO2 * M_CO2 + y_N2 * M_N2))**0.5 * 1e-4                               # [m2 s-1]\n",
        "Deff = (tau * (1 / Dab + 1 / Dk))**(-1)                                                                     # [m2 s-1]\n",
        "\n",
        "# Velocity estimation by Ergun Equation\n",
        "DeltaP = p_in_rel * 101325  # Considerando P_out_abs = P_abs e transformando a unidade de atm para Pa\n",
        "u0 = 0.001\n",
        "u_avg = fsolve(Ergun, u0)\n",
        "u_avg = u_avg.item() #Transformar u_avg de numpy.ndarray para float\n",
        "\n",
        "# Dimensionless numbers estimation\n",
        "Re_d = d_p*u_avg * rho_g / mu_g\n",
        "Pe = 0.508 * Re_d**0.020 * (L / d_p)\n",
        "Sc = (mu_g * 10) / (rho_g * Dab)\n",
        "Sh = 1.09 * Re_d**0.27 * Sc**(1 / 3)\n",
        "DL = u_avg * L / Pe                                                                                         # [m2 s-1]\n",
        "kf = Sh * Dab / d_p                                                                                         # [m s-1]\n",
        "\n",
        "# Permeability Kozeny-Carman equation\n",
        "phi_sph = 1  # [sphericity] of the particles in the packed bed = 1 for spherical particles\n",
        "k_bed = phi_sph**2 * eps_bed**3 * d_p**2 / (180 * (1 - eps_bed)**2)\n",
        "\n",
        "# Clearing variables that are no longer needed\n",
        "del ek_N2, ek_CO2, M_CO2, M_N2, phi_sph, sig_ab, sig_N2, sig_CO2, tau\n",
        "\n",
        "print(f\"P: {p_in_abs:.4f} atm\")\n",
        "print(f\"T: {T:.2f} K\")\n",
        "print(f\"mu_g: {mu_g/10:.4e} Pa s\")\n",
        "print(f\"u_avg: {u_avg:.4f} m s-1\")\n",
        "print(f\"Dab: {Dab:.4e} m2 s-1\")\n",
        "print(f\"Dk: {Dk:.4e} m2 s-1\")\n",
        "print(f\"Deff: {Deff:.4e} m2 s-1\")\n",
        "print(f\"DL: {DL:.4e} m2 s-1\")\n",
        "print(f\"kf: {kf:.4e} m2 s-1\")\n",
        "print(f\"kappa_bed: {k_bed:.4e} m2\")"
      ]
    },
    {
      "cell_type": "markdown",
      "metadata": {
        "id": "734Adb7Ny-y-"
      },
      "source": [
        "\\begin{equation}\n",
        " \ty_i^{n+1}\n",
        " \t=\n",
        " \t\\frac{\n",
        " \t\\widehat{\\rm Pe}  \\, y_{i+1}^n +\n",
        " \ty_i^n  / \\Delta t  +\n",
        " \t\\left( 1 / \\Delta x   +\n",
        " \t\\widehat{\\rm Pe}    \\right)  y_{i-1}^n  +\n",
        " \tA \\, y_p\n",
        " \t}{\n",
        " \t1 / \\Delta t +\n",
        " \t1 / \\Delta x +\n",
        " \t2 \\widehat{\\rm Pe}   +\n",
        " \tA }\n",
        "\\end{equation}"
      ]
    },
    {
      "cell_type": "markdown",
      "metadata": {
        "id": "pHHJeh7VPjF2"
      },
      "source": [
        "\\begin{equation}\n",
        " \ty_i^{n+1}\n",
        " \t=\n",
        " \t\\frac{\n",
        " \t\\widehat{\\rm Pe}  \\, y_{i+1}^n +\n",
        " \ty_i^n  / \\Delta t  +\n",
        " \t\\left( 1 / \\Delta x   +\n",
        " \t\\widehat{\\rm Pe}    \\right)  y_{i-1}^n  +\n",
        " \tA \\, y_p\n",
        " \t}{\n",
        " \t1 / \\Delta t +\n",
        " \t1 / \\Delta x +\n",
        " \t2 \\widehat{\\rm Pe}   +\n",
        " \tA }\n",
        "\\end{equation}"
      ]
    },
    {
      "cell_type": "code",
      "execution_count": null,
      "metadata": {
        "id": "ViMozaq203rd",
        "colab": {
          "base_uri": "https://localhost:8080/"
        },
        "outputId": "28c75684-b560-4067-a38c-2e98f9e32252"
      },
      "outputs": [
        {
          "output_type": "stream",
          "name": "stdout",
          "text": [
            "1.8007422364947896\n"
          ]
        }
      ],
      "source": [
        "# Concentração do fluido de entrada\n",
        "y_f = rho_CO2\n",
        "print(y_f)"
      ]
    },
    {
      "cell_type": "markdown",
      "metadata": {
        "id": "sQFMlsTRM2QA"
      },
      "source": [
        "Variáveis auxiliares:\n",
        "\n",
        "* $B = \\frac{1}{\\varepsilon_p} \\frac{ \\mathrm{St}}{(\\alpha+1) \\mathrm{Bi}} \\frac{R_p^2}{\\left(R_p-R_d\\right)^2} $\n",
        "* $E = \\frac{1}{\\varepsilon_p} \\frac{ \\mathrm{St}}{(\\alpha+1) \\mathrm{Bi}}  \\alpha\\left(R_p-R_d\\right)  \\frac{R_p^2}{\\left(R_p-R_d\\right)^2}\t= B \\alpha\\left(R_p-R_d\\right)$\n",
        "* $F = \\left(R_p-R_d\\right)$\n",
        "* $G = \\frac{\\left(1-\\varepsilon_p\\right)}{\\varepsilon_p}  \\frac{\\Phi^2 \\mathrm{St}}{(\\alpha+1) \\mathrm{Bi}}$"
      ]
    },
    {
      "cell_type": "markdown",
      "metadata": {
        "id": "Kys7blvFLOc9"
      },
      "source": [
        "NOVA Variável auxiliar:\n",
        "\n",
        "* $Z_i = (\\Delta R \\, \\Delta t \\, E) / (R_d+ F \\, r_j)$\n",
        "\n",
        "\\begin{equation}\n",
        " \tc_{j,i}^{n+1}\n",
        " \t=\n",
        " \t\\frac{\n",
        " \t\\left( Z_i  +\n",
        " \t\\Delta t \\, B\n",
        " \t\\right) c_{j+1,i}^{n} +\n",
        " \t\\Delta R^2 c_{j,i}^n +\n",
        " \t\\Delta t \\, B \\, c_{j-1,i}^n\n",
        " \t}{\n",
        " \t\\left(\n",
        " \t\\Delta R^2 +\n",
        " \tZ_i +\n",
        " \t2 \\Delta t \\, B +\n",
        " \t\\Delta R^2 \\, \\Delta t \\, G\n",
        " \t\\right)\n",
        " \t}\n",
        " \\end{equation}\n",
        "\n",
        "Condições de contorno (em $R$ temos os índices $j = 0...k$):\n",
        "\n",
        "*\t$c_{k,i}^{n}   = (\\mathrm{Bi} \\, \\Delta R \\,  y_{i}^{n}  + c_{k-1,i}^n ) / (1 + \\mathrm{Bi} \\, \\Delta R )$\n",
        "* $c_{0,i}^{n} = c_{1,i}^n$\n"
      ]
    },
    {
      "cell_type": "code",
      "source": [
        "# Variação da porosidade da partícula\n",
        "print(len(np.arange(0.1,0.7,0.1)))\n",
        "\n",
        "np.arange(0.1,0.7,0.1)"
      ],
      "metadata": {
        "colab": {
          "base_uri": "https://localhost:8080/"
        },
        "id": "jxFfx60kIk4Y",
        "outputId": "d35c36e1-7c6a-4b2f-c4c7-080d1ffa0721"
      },
      "execution_count": null,
      "outputs": [
        {
          "output_type": "stream",
          "name": "stdout",
          "text": [
            "6\n"
          ]
        },
        {
          "output_type": "execute_result",
          "data": {
            "text/plain": [
              "array([0.1, 0.2, 0.3, 0.4, 0.5, 0.6])"
            ]
          },
          "metadata": {},
          "execution_count": 20
        }
      ]
    },
    {
      "cell_type": "code",
      "source": [
        "eps_bed"
      ],
      "metadata": {
        "colab": {
          "base_uri": "https://localhost:8080/"
        },
        "id": "sg7t0XR7UEv5",
        "outputId": "311f2134-d1e8-400e-8908-ba7cbbaa4e84"
      },
      "execution_count": null,
      "outputs": [
        {
          "output_type": "execute_result",
          "data": {
            "text/plain": [
              "0.5"
            ]
          },
          "metadata": {},
          "execution_count": 59
        }
      ]
    },
    {
      "cell_type": "code",
      "source": [
        "# Raio da Partícula\n",
        "Rp = d_p/2 # m\n",
        "\n",
        "dx = 0.01\n",
        "dr = Rp/10\n",
        "dt = 0.004\n",
        "T = 20.0\n",
        "# L foi definido pelo Tarcísio\n",
        "R = D_bed/2\n",
        "nx = int(L/dx)    # L = tamanho do domínio no espaço\n",
        "nt = int(T/dt)     # T = tamanho do domínio no tempo\n",
        "nr = int(Rp/dr)    # R = raio adimensional do pellet\n",
        "\n",
        "x = linspace(0.0,L,nx+1)\n",
        "# print(len(x))\n",
        "# print(x)\n",
        "\n",
        "r = linspace(0.0,R,nr+1)\n",
        "# print(len(r))\n",
        "# print(r)\n",
        "\n",
        "t = linspace(0.0,T,nt+1)\n",
        "# print(len(t))\n",
        "# print(t)\n",
        "\n",
        "# Concentração no Pellet\n",
        "c = zeros((nt+1,nr+1,nx+1,9),float)\n",
        "# Concentração no fluido\n",
        "y = zeros((nt+1,nx+1,9),float)"
      ],
      "metadata": {
        "id": "FFUvIHd0JTsW"
      },
      "execution_count": null,
      "outputs": []
    },
    {
      "cell_type": "code",
      "execution_count": null,
      "metadata": {
        "id": "2qcZ4l6pPAjC",
        "colab": {
          "base_uri": "https://localhost:8080/"
        },
        "outputId": "d8f61227-b6f2-4089-c8aa-e6f344741c88"
      },
      "outputs": [
        {
          "output_type": "stream",
          "name": "stdout",
          "text": [
            "0.1 0\n",
            "0.2 1\n",
            "0.30000000000000004 2\n",
            "0.4 3\n",
            "0.5 4\n",
            "0.6 5\n",
            "0.7000000000000001 6\n",
            "0.8 7\n"
          ]
        }
      ],
      "source": [
        "cont = 0\n",
        "for epsilon_e in np.arange(0.1,0.9,0.1):\n",
        "  print(epsilon_e,cont)\n",
        "\n",
        "  # Condição inicial para y (gás) e c (pellet)\n",
        "  y0 = rho_CO2\n",
        "  c0 = 0\n",
        "\n",
        "  # Velocidade média do escoamento no leito do reator\n",
        "  u = u_avg # m/s Referência Tarcísio (equações acima)\n",
        "\n",
        "  # Coeficiente de Dispersão\n",
        "  D_L = DL # m2 s-1\n",
        "\n",
        "  # Coeficiente de Difusão Efetivo (Está faltando explicar o que é Dm no artigo de Kaczmarski Szukievicz)\n",
        "  # O Deff foi calculado pelo Tarcísio acima.\n",
        "\n",
        "  # Porosidade aparente\n",
        "  #epsilon_e = eps_bed # Referência Tarcísio (##### Vamos variar! )\n",
        "\n",
        "  # Porosidade da partícula\n",
        "  epsilon_p = 0.3 # Falta Referência\n",
        "\n",
        "  # coeficiente de transferência de massa externa\n",
        "  k_ext = kf/1000 # m2 s-1\n",
        "\n",
        "  # taxa da reação cinética\n",
        "  k_rea = 1000.0\n",
        "\n",
        "  # Raio da zona morta\n",
        "  Rd = 0\n",
        "\n",
        "  # geometria da partícula que pode ser esférica, cilíndrica ou uma placa (2, 1 ou 0, respectivamente)\n",
        "  alpha = 2 # (esfera)\n",
        "\n",
        "  # constante\n",
        "  a_p = (alpha + 1)/Rp\n",
        "\n",
        "  # Número de Peclet\n",
        "  Pe = u*L/(D_L*epsilon_e)\n",
        "\n",
        "  # Número de Peclet chapeu\n",
        "  Pe_c = 1/(Pe*dx**2)\n",
        "\n",
        "  # Número de Stanton\n",
        "  St = k_ext*a_p*L*epsilon_e/u\n",
        "\n",
        "  # Constante\n",
        "  A = St*(1-epsilon_e)/epsilon_e\n",
        "\n",
        "  # Número de Biot\n",
        "  Bi = k_ext*Rp/Deff\n",
        "\n",
        "  # Módulo de Thiele ao quadrado\n",
        "  phi2 = (Rp**2)*k_rea/Deff\n",
        "\n",
        "  B = St*Rp**2 / (epsilon_p * (alpha+1) * Bi * (Rp-Rd)**2)\n",
        "  E = B * alpha * (Rp-Rd)\n",
        "  F = (Rp-Rd)\n",
        "  G = (1-epsilon_p) * phi2 * St / (epsilon_p * (alpha+1) * Bi)\n",
        "\n",
        "\n",
        "  for n in range(nt-1):\n",
        "      #print(n)\n",
        "      tn = n*dt\n",
        "      # condições de contorno para y (CO2 no gas)\n",
        "      y[n,0,cont] = y_f\n",
        "      y[n,1,cont] = y_f\n",
        "      y[n,nx,cont] = y[n,nx-1,cont]\n",
        "      for i in range(1,nx):\n",
        "          xi = i*dx\n",
        "          y[n+1,i,cont] = (Pe_c*y[n,i+1,cont]+y[n,i,cont]/dt+(1/dx+Pe_c)*y[n,i-1,cont]+A*c[n,nr,i,cont])/(1/dt+1/dx+2*Pe_c+A)\n",
        "          # condições de contorno para c (CO2 no pellet)\n",
        "          c[n,0,i,cont] = c[n,1,i,cont]\n",
        "          c[n,nr,i,cont] = (Bi*dr*y[n,i,cont] + c[n,nr-1,i,cont])/(1+Bi*dr)\n",
        "          for j in range(1,nr):\n",
        "            ri = j*dr\n",
        "            Zi = (dr * dt * E) / (Rd + F * ri)\n",
        "            c[n+1,j,i,cont] = ((Zi+dt*B) * c[n,j+1,i,cont] + (dr**2) * c[n,j,i,cont] + dt * B * c[n,j-1,i,cont]) / (dr**2 + Zi + 2*dt*B + (dr**2)*dt*G)\n",
        "\n",
        "  cont += 1"
      ]
    },
    {
      "cell_type": "code",
      "execution_count": null,
      "metadata": {
        "id": "LBYPumKT1nwr"
      },
      "outputs": [],
      "source": [
        "import matplotlib.pyplot as plt\n",
        "%matplotlib inline"
      ]
    },
    {
      "cell_type": "code",
      "execution_count": null,
      "metadata": {
        "colab": {
          "base_uri": "https://localhost:8080/"
        },
        "id": "2445n1Y-dsDl",
        "outputId": "810e5737-780c-47e8-aa99-2bf9dd2bc757"
      },
      "outputs": [
        {
          "output_type": "execute_result",
          "data": {
            "text/plain": [
              "(array([0.0000e+00, 4.0000e-03, 8.0000e-03, ..., 1.9992e+01, 1.9996e+01,\n",
              "        2.0000e+01]),\n",
              " 5001)"
            ]
          },
          "metadata": {},
          "execution_count": 54
        }
      ],
      "source": [
        "t, len(t)"
      ]
    },
    {
      "cell_type": "code",
      "execution_count": null,
      "metadata": {
        "id": "vspMROZv1ntz"
      },
      "outputs": [],
      "source": [
        "# plt.figure(figsize=(8, 6))\n",
        "\n",
        "# plt.xlim([0,0.3])\n",
        "# #plt.ylim([0,2.0])\n",
        "# plt.title('Reator 1D - Concentração de CO2 no fluido', fontsize=18)\n",
        "# plt.xlabel('L (comprimento do reator)', fontsize=16)\n",
        "# plt.ylabel('y(t,x)', fontsize=16)\n",
        "# plt.tick_params(axis='both', labelsize=16) #increase font size for ticks\n",
        "\n",
        "\n",
        "# plt.plot(x,y[0,:], label=\"Tempo: 0.00\")\n",
        "# #plt.plot(x,y[1,:], label=\"Tempo: \"+str(t[1]))\n",
        "# #plt.plot(x,y[3,:], label=\"Tempo: \"+str(t[3]))\n",
        "# plt.plot(x,y[10,:], label=\"Tempo: \"+str(t[10]))\n",
        "# #plt.plot(x,y[50,:], label=\"Tempo: \"+str(t[50]))\n",
        "# #plt.plot(x,y[80,:], label=\"Tempo: \"+str(t[80]))\n",
        "# plt.plot(x,y[100,:], label=\"Tempo: \"+str(t[100]))\n",
        "# plt.plot(x,y[500,:], label=\"Tempo: \"+str(t[500]))\n",
        "# #plt.plot(x,y[900,:], label=\"Tempo: \"+str(t[900]))\n",
        "# plt.plot(x,y[900,:], label=\"Tempo: \"+str(t[900]))\n",
        "# plt.plot(x,y[900,:], label=\"Tempo: \"+str(t[2000]))\n",
        "# #plt.plot(x,y[2000,:], label=\"Tempo: \"+str(t[2000]))\n",
        "# # plt.plot(x,y[8000,:], label=\"Tempo: \"+str(t[8000]))\n",
        "# # plt.plot(x,y[10000,:], label=\"Tempo: \"+str(t[10000]))\n",
        "# #plt.plot(x,y[39999,:], label=\"Tempo: \"+str(t[40000]))\n",
        "\n",
        "# plt.legend(loc=\"upper right\",bbox_to_anchor=(1.4, 0.95), frameon=False, fontsize=14)\n",
        "\n",
        "\n",
        "# # Show the plot\n",
        "# #plt.savefig('Conc_CO2_fluido.png', dpi = 100, bbox_inches='tight')\n",
        "# #plt.savefig('Conc_CO2_fluido.pdf', dpi = 600, bbox_inches='tight')\n",
        "# plt.savefig('Conc_CO2_fluido.png', dpi = 600, bbox_inches='tight')\n",
        "# plt.show();"
      ]
    },
    {
      "cell_type": "code",
      "execution_count": null,
      "metadata": {
        "id": "IsKwqkWCPAeE"
      },
      "outputs": [],
      "source": [
        "# plt.figure(figsize=(8, 6))\n",
        "\n",
        "# plt.xlim([0,0.06])\n",
        "# #plt.ylim([0,2.0])\n",
        "# plt.title('Reator 1D - Concentração de CO2 no Pellet (no início do reator 10%)', fontsize=18)\n",
        "# plt.xlabel('Raio (r)', fontsize=18)\n",
        "# plt.ylabel('c(t,r,x=10%)', fontsize=18)\n",
        "# plt.tick_params(axis='both', labelsize=16) #increase font size for ticks\n",
        "\n",
        "\n",
        "# plt.plot(r,c[0,:,10], label=\"Tempo: 0.00\")\n",
        "# plt.plot(r,c[10,:,10], label=\"Tempo: \"+str(t[10]))\n",
        "# plt.plot(r,c[100,:,10], label=\"Tempo: \"+str(t[100]))\n",
        "# plt.plot(r,c[500,:,10], label=\"Tempo: \"+str(t[500]))\n",
        "# plt.plot(r,c[900,:,10], label=\"Tempo: \"+str(t[900]))\n",
        "# plt.plot(r,c[2000,:,10], label=\"Tempo: \"+str(t[2000]))\n",
        "# #plt.plot(r,c[10000,:,10], label=\"Tempo: \"+str(t[10000]))\n",
        "# #plt.plot(r,c[39998,:,10], label=\"Tempo: \"+str(t[40000]))\n",
        "# #plt.legend(loc='best');\n",
        "\n",
        "# plt.legend(loc=\"upper right\",bbox_to_anchor=(1.4, 0.95), frameon=False, fontsize=14)\n",
        "\n",
        "# # Show the plot\n",
        "# #plt.savefig('Conc_CO2_pellet.png', dpi = 100, bbox_inches='tight')\n",
        "# plt.savefig('Conc_CO2_pellet.png', dpi = 600, bbox_inches='tight')\n",
        "# plt.show();"
      ]
    },
    {
      "cell_type": "markdown",
      "metadata": {
        "id": "zwyX_ISle42e"
      },
      "source": [
        "### Curva de Ruptura\n",
        "\n",
        "Porosidade aparente\n",
        "[0.1, 0.2, 0.3, 0.4, 0.5, 0.6]"
      ]
    },
    {
      "cell_type": "code",
      "execution_count": null,
      "metadata": {
        "colab": {
          "base_uri": "https://localhost:8080/",
          "height": 582
        },
        "id": "_54jEyHNVWQN",
        "outputId": "028e72d2-cd68-41e0-bf8c-0bfa9bcbcd50"
      },
      "outputs": [
        {
          "output_type": "display_data",
          "data": {
            "text/plain": [
              "<Figure size 800x600 with 1 Axes>"
            ],
            "image/png": "[encoded data removed]"
          },
          "metadata": {}
        }
      ],
      "source": [
        "plt.figure(figsize=(8,6))\n",
        "\n",
        "plt.xlim([0,1])\n",
        "#plt.ylim([0,1.1])\n",
        "plt.title('Curva de Ruptura (Variando Porosidade Aparente)', fontsize=16)\n",
        "plt.xlabel('Tempo', fontsize=18)\n",
        "#plt.ylabel('y(t,x=99%)', fontsize=18)\n",
        "plt.ylabel(r'$C/C_0$', fontsize=18)\n",
        "plt.plot(t,y[:,15,0]/rho_CO2, label=\"$\\epsilon_e = 0.1$\")\n",
        "plt.plot(t,y[:,15,1]/rho_CO2, label=\"$\\epsilon_e = 0.2$\")\n",
        "plt.plot(t,y[:,15,2]/rho_CO2, label=\"$\\epsilon_e = 0.3$\")\n",
        "plt.plot(t,y[:,15,3]/rho_CO2, label=\"$\\epsilon_e = 0.4$\")\n",
        "plt.plot(t,y[:,15,4]/rho_CO2, label=\"$\\epsilon_e = 0.5$\")\n",
        "plt.plot(t,y[:,15,5]/rho_CO2, label=\"$\\epsilon_e = 0.6$\")\n",
        "plt.plot(t,y[:,15,6]/rho_CO2, label=\"$\\epsilon_e = 0.7$\")\n",
        "plt.plot(t,y[:,15,7]/rho_CO2, label=\"$\\epsilon_e = 0.8$\")\n",
        "#plt.plot(t,y[:,15,6]/rho_CO2, label=\"Final do reator\")\n",
        "#plt.legend(loc=\"upper right\");\n",
        "plt.tick_params(axis='both', labelsize=16) #increase font size for ticks\n",
        "\n",
        "\n",
        "plt.legend(loc=\"upper right\",bbox_to_anchor=(1.3, 0.95), frameon=False, fontsize=14)\n",
        "\n",
        "# Show the plot\n",
        "#plt.savefig('Curva_ruptura.png', dpi = 100, bbox_inches='tight')\n",
        "plt.savefig('Curva_ruptura_porosidade_aparente.png', dpi = 600, bbox_inches='tight')\n",
        "plt.show();"
      ]
    },
    {
      "cell_type": "markdown",
      "metadata": {
        "id": "a8YEGEeadsDl"
      },
      "source": [
        "## Defining the Chapman-Richards function for the fitting"
      ]
    },
    {
      "cell_type": "code",
      "execution_count": null,
      "metadata": {
        "id": "tocURqPpfmCa"
      },
      "outputs": [],
      "source": [
        "def chap(x, a, b, c, x0):\n",
        "    return 0 + a * (1 - np.exp(-b * (x-x0)))**c"
      ]
    },
    {
      "cell_type": "code",
      "execution_count": null,
      "metadata": {
        "id": "9DtLo2QLdsDl"
      },
      "outputs": [],
      "source": [
        "# Model fitting support\n",
        "from scipy.optimize import curve_fit\n",
        "from sklearn.metrics import r2_score\n",
        "\n",
        "import pandas as pd"
      ]
    },
    {
      "cell_type": "code",
      "execution_count": null,
      "metadata": {
        "id": "wjZk5OirdsDl"
      },
      "outputs": [],
      "source": [
        "# tamanho = 500\n",
        "# curva_ruptura = pd.DataFrame(np.array([t[0:tamanho],y[0:tamanho][:,15]]).T,columns = ['tempo', 'concentracao'],index=t[0:tamanho]).copy()\n",
        "# curva_ruptura"
      ]
    },
    {
      "cell_type": "code",
      "source": [
        "# dataToFit = curva_ruptura\n",
        "# dataToFit.plot.scatter(x='tempo', y='concentracao')\n",
        "# plt.show()"
      ],
      "metadata": {
        "id": "zduHxGxO8eyy"
      },
      "execution_count": null,
      "outputs": []
    },
    {
      "cell_type": "code",
      "source": [
        "# tempo = dataToFit['tempo'].values"
      ],
      "metadata": {
        "id": "bBPYYu5E9Zh9"
      },
      "execution_count": null,
      "outputs": []
    },
    {
      "cell_type": "code",
      "source": [
        "# guess = [1.75, 9.015, 2.9, 0.1]\n",
        "\n",
        "# n = dataToFit.shape[0]\n",
        "# y = np.empty(n)\n",
        "# for i in range(n):\n",
        "#   #print(i)\n",
        "#   y[i] = chap(tempo[i], guess[0], guess[1], guess[2], guess[3])\n",
        "\n",
        "# plt.plot(dataToFit['tempo'],dataToFit['concentracao'],'.')\n",
        "# plt.plot(dataToFit['tempo'],y,'r.')\n",
        "# plt.show()"
      ],
      "metadata": {
        "id": "YXr7xdNI8iES"
      },
      "execution_count": null,
      "outputs": []
    },
    {
      "cell_type": "code",
      "source": [
        "# curve_fit?"
      ],
      "metadata": {
        "id": "UgXhTcmrC7tI"
      },
      "execution_count": null,
      "outputs": []
    },
    {
      "cell_type": "code",
      "source": [
        "# # Set the xdata\n",
        "# # and the ydata\n",
        "# conc = dataToFit['concentracao'].values\n",
        "# temp = dataToFit['tempo'].values\n",
        "\n",
        "# # call the fit procedure\n",
        "# parm, cov = curve_fit(chap, temp, conc, guess)"
      ],
      "metadata": {
        "id": "wJLDUyYP8pPI"
      },
      "execution_count": null,
      "outputs": []
    },
    {
      "cell_type": "code",
      "source": [
        "# parm"
      ],
      "metadata": {
        "id": "0V0LdlJN-RJV"
      },
      "execution_count": null,
      "outputs": []
    },
    {
      "cell_type": "code",
      "source": [],
      "metadata": {
        "id": "v_FcFvY__N1K"
      },
      "execution_count": null,
      "outputs": []
    }
  ],
  "metadata": {
    "colab": {
      "provenance": [],
      "include_colab_link": true
    },
    "kernelspec": {
      "display_name": "Python 3",
      "name": "python3"
    },
    "language_info": {
      "codemirror_mode": {
        "name": "ipython",
        "version": 3
      },
      "file_extension": ".py",
      "mimetype": "text/x-python",
      "name": "python",
      "nbconvert_exporter": "python",
      "pygments_lexer": "ipython3",
      "version": "3.10.10"
    }
  },
  "nbformat": 4,
  "nbformat_minor": 0
}